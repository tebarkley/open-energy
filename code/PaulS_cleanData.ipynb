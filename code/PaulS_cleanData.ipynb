{
 "metadata": {
  "name": ""
 },
 "nbformat": 3,
 "nbformat_minor": 0,
 "worksheets": [
  {
   "cells": [
    {
     "cell_type": "heading",
     "level": 1,
     "metadata": {},
     "source": [
      "Energy Team- Energy Production by Source Analysis"
     ]
    },
    {
     "cell_type": "markdown",
     "metadata": {},
     "source": [
      "This notebooks reads in, processes, and performs basic analysis on yearly state-level energy production between 2001 and 2013:\n",
      "\n",
      "The data is from a file called ELEC.txt, downloaded from  http://www.eia.gov/beta/api/bulkfiles.cfm. This notebook assumes that it is in a folder called \"data\". \n"
     ]
    },
    {
     "cell_type": "heading",
     "level": 3,
     "metadata": {},
     "source": [
      "Installing all the necessary and possibly useful tools:"
     ]
    },
    {
     "cell_type": "code",
     "collapsed": false,
     "input": [
      "try:\n",
      "    import mpld3\n",
      "    from mpld3 import enable_notebook\n",
      "    from mpld3 import plugins\n",
      "    enable_notebook()\n",
      "except Exception as e:\n",
      "    print \"Attempt to import and enable mpld3 failed\", e"
     ],
     "language": "python",
     "metadata": {},
     "outputs": [],
     "prompt_number": 1
    },
    {
     "cell_type": "code",
     "collapsed": false,
     "input": [
      "import matplotlib.pyplot as plt\n",
      "%matplotlib inline\n",
      "import numpy as np\n",
      "import pandas as pd\n",
      "import codecs\n",
      "import os\n",
      "import re\n",
      "import csv\n",
      "import xlwt\n",
      "\n",
      "from us import states\n",
      "from collections import defaultdict\n",
      "from pandas import *\n",
      "from math import floor\n",
      "from itertools import islice\n",
      "from pandas import ExcelWriter\n",
      "from pandas.stats.api import ols\n",
      "from pylab import figure, show, savefig\n",
      "from pandas import DataFrame, Series\n",
      "from matplotlib.lines import *\n",
      "from matplotlib.colors import NoNorm"
     ],
     "language": "python",
     "metadata": {},
     "outputs": [],
     "prompt_number": 2
    },
    {
     "cell_type": "heading",
     "level": 3,
     "metadata": {},
     "source": [
      "Read in the data"
     ]
    },
    {
     "cell_type": "markdown",
     "metadata": {},
     "source": [
      "To download the data, go to this [link](http://api.eia.gov/bulk/ELEC.zip)\n",
      "\n",
      "Our directory is such that, within our repository folder, the data lies in a folder called \"data\" and the ipython notebook in a folder called \"code\"."
     ]
    },
    {
     "cell_type": "code",
     "collapsed": false,
     "input": [
      "#set up path to the data files\n",
      "data_loc = os.path.join(os.pardir, \"data\")"
     ],
     "language": "python",
     "metadata": {},
     "outputs": [],
     "prompt_number": 3
    },
    {
     "cell_type": "markdown",
     "metadata": {},
     "source": [
      "We want to read in all rows of the data that match the regex expressed below"
     ]
    },
    {
     "cell_type": "code",
     "collapsed": false,
     "input": [
      "# Accessing the bulk data file to get Import and Export Electricity\n",
      "\n",
      "def get_ie():\n",
      "    e_location = '/Users/paulson/Desktop/MIMS/i290T/bulkdata/SEDS.txt'\n",
      "    data_match = re.compile('Electricity .*? the United States, .*?')\n",
      "    units_match = re.compile('Billion Btu')\n",
      "    raw_data = []\n",
      "    with open(e_location) as myfile:\n",
      "        for row in myfile:\n",
      "            line = json.loads(row)\n",
      "            if (data_match.search(line['name'])) and (units_match.search(line['units'])):\n",
      "                raw_data.append(line)\n",
      "        return raw_data\n",
      "\n",
      "raw_data = get_ie()\n",
      "len(raw_data)"
     ],
     "language": "python",
     "metadata": {},
     "outputs": [
      {
       "metadata": {},
       "output_type": "pyout",
       "prompt_number": 10,
       "text": [
        "104"
       ]
      }
     ],
     "prompt_number": 10
    },
    {
     "cell_type": "code",
     "collapsed": false,
     "input": [
      "# create fcn to filter out any 'data' before 2001\n",
      "\n",
      "def filter_data(raw_data):\n",
      "    the_range = len(raw_data)\n",
      "    for number in range(the_range):\n",
      "        int_numb = int(number)\n",
      "        filtered_data = [x for x in raw_data[int_numb]['data'] if int(x[0]) > 2000]\n",
      "        raw_data[int_numb]['data'] = filtered_data\n",
      "    return raw_data\n"
     ],
     "language": "python",
     "metadata": {},
     "outputs": [],
     "prompt_number": 14
    },
    {
     "cell_type": "code",
     "collapsed": false,
     "input": [
      "filtered_data = filter_data(raw_data)"
     ],
     "language": "python",
     "metadata": {},
     "outputs": [],
     "prompt_number": 15
    },
    {
     "cell_type": "markdown",
     "metadata": {},
     "source": [
      "We can look at a list of all of the 'name' JSON elements. We can see that there are some entries that are not for states (like New England, Pacific Contiguous, etc)"
     ]
    },
    {
     "cell_type": "code",
     "collapsed": false,
     "input": [
      "filtered_data[0]"
     ],
     "language": "python",
     "metadata": {},
     "outputs": [
      {
       "metadata": {},
       "output_type": "pyout",
       "prompt_number": 16,
       "text": [
        "{u'copyright': u'None',\n",
        " u'data': [[u'2012', 0],\n",
        "  [u'2011', 0],\n",
        "  [u'2010', 0],\n",
        "  [u'2009', 0],\n",
        "  [u'2008', 0],\n",
        "  [u'2007', 0],\n",
        "  [u'2006', 0],\n",
        "  [u'2005', 0],\n",
        "  [u'2004', 0],\n",
        "  [u'2003', 0],\n",
        "  [u'2002', 0],\n",
        "  [u'2001', 0]],\n",
        " u'description': u'Electricity exported from the United States, Georgia See http://www.eia.gov/state/seds/seds-technical-notes-complete.cfm?sid=US for technical notes and documentation.',\n",
        " u'end': u'2012',\n",
        " u'f': u'A',\n",
        " u'iso3166': u'USA-GA',\n",
        " u'last_updated': u'2013-11-22T15:04:43-05:00',\n",
        " u'name': u'Electricity exported from the United States, Georgia',\n",
        " u'series_id': u'SEDS.ELEXB.GA.A',\n",
        " u'source': u'SEDS, EIA, U.S. Energy Information Administration',\n",
        " u'start': u'1960',\n",
        " u'units': u'Billion Btu'}"
       ]
      }
     ],
     "prompt_number": 16
    },
    {
     "cell_type": "code",
     "collapsed": false,
     "input": [
      "def get_list_of_names():\n",
      "    names = []\n",
      "    for x in filtered_data:\n",
      "        names.append(x['name'])\n",
      "    return names\n",
      "\n",
      "names = get_list_of_names()\n",
      "len(names)\n",
      "names[0]"
     ],
     "language": "python",
     "metadata": {},
     "outputs": [
      {
       "metadata": {},
       "output_type": "pyout",
       "prompt_number": 17,
       "text": [
        "u'Electricity exported from the United States, Georgia'"
       ]
      }
     ],
     "prompt_number": 17
    },
    {
     "cell_type": "code",
     "collapsed": false,
     "input": [
      "#let's also put together a dictionary of name: description so we know what these all mean\n",
      "descriptions = defaultdict(str)\n",
      "for x in filtered_data:\n",
      "    descriptions[x['name']] = x['description']\n",
      "# discriptions is a dict.\n",
      "descriptions['Electricity exported from the United States, Georgia']"
     ],
     "language": "python",
     "metadata": {},
     "outputs": [
      {
       "metadata": {},
       "output_type": "pyout",
       "prompt_number": 18,
       "text": [
        "u'Electricity exported from the United States, Georgia See http://www.eia.gov/state/seds/seds-technical-notes-complete.cfm?sid=US for technical notes and documentation.'"
       ]
      }
     ],
     "prompt_number": 18
    },
    {
     "cell_type": "heading",
     "level": 2,
     "metadata": {},
     "source": [
      "Create dataframe with index rows as state and year, and columns as production source"
     ]
    },
    {
     "cell_type": "code",
     "collapsed": false,
     "input": [
      "#take a look at the form of the data\n",
      "filtered_data[0]"
     ],
     "language": "python",
     "metadata": {},
     "outputs": [
      {
       "metadata": {},
       "output_type": "pyout",
       "prompt_number": 19,
       "text": [
        "{u'copyright': u'None',\n",
        " u'data': [[u'2012', 0],\n",
        "  [u'2011', 0],\n",
        "  [u'2010', 0],\n",
        "  [u'2009', 0],\n",
        "  [u'2008', 0],\n",
        "  [u'2007', 0],\n",
        "  [u'2006', 0],\n",
        "  [u'2005', 0],\n",
        "  [u'2004', 0],\n",
        "  [u'2003', 0],\n",
        "  [u'2002', 0],\n",
        "  [u'2001', 0]],\n",
        " u'description': u'Electricity exported from the United States, Georgia See http://www.eia.gov/state/seds/seds-technical-notes-complete.cfm?sid=US for technical notes and documentation.',\n",
        " u'end': u'2012',\n",
        " u'f': u'A',\n",
        " u'iso3166': u'USA-GA',\n",
        " u'last_updated': u'2013-11-22T15:04:43-05:00',\n",
        " u'name': u'Electricity exported from the United States, Georgia',\n",
        " u'series_id': u'SEDS.ELEXB.GA.A',\n",
        " u'source': u'SEDS, EIA, U.S. Energy Information Administration',\n",
        " u'start': u'1960',\n",
        " u'units': u'Billion Btu'}"
       ]
      }
     ],
     "prompt_number": 19
    },
    {
     "cell_type": "markdown",
     "metadata": {},
     "source": [
      "From the above, we can see that the year is element 0 of each list within the data list, and the data value is element 1. The state is located in a predictable place within the name string. The type of data is also located in a predictable place within the name string.\n",
      "\n",
      "It might be easiest to put everythin in a dictionary first, then turn it into a data frame. According to the pandas documentation, "
     ]
    },
    {
     "cell_type": "code",
     "collapsed": false,
     "input": [
      "#Create dictionary from the filtered_data json\n",
      "\n",
      "#set up regular expressions to match the state and source\n",
      "state_match = re.compile('Net Generation : .*? : (.*?) : All Sectors : Annual')\n",
      "source_match = re.compile('Net Generation : (.*?) : .*? : All Sectors : Annual')\n",
      "\n",
      "#create dictionary to store results\n",
      "\n",
      "total_dict = defaultdict(dict)\n",
      "\n",
      "#loop through filtered_data to populate data_dict\n",
      "def make_dict():\n",
      "    for x in filtered_data:\n",
      "        year_dict = {}\n",
      "        source_dict = {}\n",
      "        #The list of lists\n",
      "        data = x['data']\n",
      "        # The name\n",
      "        name = x['name']\n",
      "        state = name[45:]\n",
      "        source = name[:18]\n",
      "        #change the source to all lowercase,  _ instead of spaces, and no parentheses\n",
      "        source = source.lower()\n",
      "        for pair in data:\n",
      "            year_dict[pair[0]] = pair[1]\n",
      "        total_dict[state][source] = year_dict\n",
      "    return total_dict\n",
      "\n",
      "\n",
      "total_dict = make_dict()\n",
      "total_dict['Texas']"
     ],
     "language": "python",
     "metadata": {},
     "outputs": [
      {
       "metadata": {},
       "output_type": "pyout",
       "prompt_number": 20,
       "text": [
        "{u'electricity export': {u'2001': 10,\n",
        "  u'2002': 1021,\n",
        "  u'2003': 1012,\n",
        "  u'2004': 1005,\n",
        "  u'2005': 1016,\n",
        "  u'2006': 996,\n",
        "  u'2007': 1374,\n",
        "  u'2008': 3456,\n",
        "  u'2009': 1150,\n",
        "  u'2010': 1059,\n",
        "  u'2011': 1046,\n",
        "  u'2012': 1041},\n",
        " u'electricity import': {u'2001': 12,\n",
        "  u'2002': 274,\n",
        "  u'2003': 272,\n",
        "  u'2004': 270,\n",
        "  u'2005': 266,\n",
        "  u'2006': 271,\n",
        "  u'2007': 545,\n",
        "  u'2008': 3279,\n",
        "  u'2009': 1526,\n",
        "  u'2010': 1018,\n",
        "  u'2011': 281,\n",
        "  u'2012': 279}}"
       ]
      }
     ],
     "prompt_number": 20
    },
    {
     "cell_type": "code",
     "collapsed": false,
     "input": [
      "#turn the nested dictionary into a pandas DataFrame\n",
      "#see helpful reference at http://stackoverflow.com/questions/5900578/how-collections-defaultdict-work\n",
      "\n",
      "states = []\n",
      "sources = []\n",
      "\n",
      "for state, source_dict in total_dict.iteritems():\n",
      "    states.append(state)\n",
      "    sources.append(pd.DataFrame.from_dict(source_dict))\n",
      "    \n",
      "source_frame = pd.concat(sources, keys=states)\n"
     ],
     "language": "python",
     "metadata": {},
     "outputs": [],
     "prompt_number": 21
    },
    {
     "cell_type": "code",
     "collapsed": false,
     "input": [
      "source_frame"
     ],
     "language": "python",
     "metadata": {},
     "outputs": [
      {
       "html": [
        "<div style=\"max-height:1000px;max-width:1500px;overflow:auto;\">\n",
        "<table border=\"1\" class=\"dataframe\">\n",
        "  <thead>\n",
        "    <tr style=\"text-align: right;\">\n",
        "      <th></th>\n",
        "      <th></th>\n",
        "      <th>electricity export</th>\n",
        "      <th>electricity import</th>\n",
        "    </tr>\n",
        "  </thead>\n",
        "  <tbody>\n",
        "    <tr>\n",
        "      <th rowspan=\"12\" valign=\"top\">Mississippi</th>\n",
        "      <th>2001</th>\n",
        "      <td>     0</td>\n",
        "      <td>     0</td>\n",
        "    </tr>\n",
        "    <tr>\n",
        "      <th>2002</th>\n",
        "      <td>     0</td>\n",
        "      <td>     0</td>\n",
        "    </tr>\n",
        "    <tr>\n",
        "      <th>2003</th>\n",
        "      <td>     0</td>\n",
        "      <td>     0</td>\n",
        "    </tr>\n",
        "    <tr>\n",
        "      <th>2004</th>\n",
        "      <td>     0</td>\n",
        "      <td>     0</td>\n",
        "    </tr>\n",
        "    <tr>\n",
        "      <th>2005</th>\n",
        "      <td>     0</td>\n",
        "      <td>     0</td>\n",
        "    </tr>\n",
        "    <tr>\n",
        "      <th>2006</th>\n",
        "      <td>     0</td>\n",
        "      <td>     0</td>\n",
        "    </tr>\n",
        "    <tr>\n",
        "      <th>2007</th>\n",
        "      <td>     0</td>\n",
        "      <td>     0</td>\n",
        "    </tr>\n",
        "    <tr>\n",
        "      <th>2008</th>\n",
        "      <td>     0</td>\n",
        "      <td>     0</td>\n",
        "    </tr>\n",
        "    <tr>\n",
        "      <th>2009</th>\n",
        "      <td>     0</td>\n",
        "      <td>     0</td>\n",
        "    </tr>\n",
        "    <tr>\n",
        "      <th>2010</th>\n",
        "      <td>     0</td>\n",
        "      <td>     0</td>\n",
        "    </tr>\n",
        "    <tr>\n",
        "      <th>2011</th>\n",
        "      <td>     0</td>\n",
        "      <td>     0</td>\n",
        "    </tr>\n",
        "    <tr>\n",
        "      <th>2012</th>\n",
        "      <td>     0</td>\n",
        "      <td>     0</td>\n",
        "    </tr>\n",
        "    <tr>\n",
        "      <th rowspan=\"12\" valign=\"top\">Oklahoma</th>\n",
        "      <th>2001</th>\n",
        "      <td>     0</td>\n",
        "      <td>     0</td>\n",
        "    </tr>\n",
        "    <tr>\n",
        "      <th>2002</th>\n",
        "      <td>     0</td>\n",
        "      <td>     0</td>\n",
        "    </tr>\n",
        "    <tr>\n",
        "      <th>2003</th>\n",
        "      <td>     0</td>\n",
        "      <td>     0</td>\n",
        "    </tr>\n",
        "    <tr>\n",
        "      <th>2004</th>\n",
        "      <td>     2</td>\n",
        "      <td>     0</td>\n",
        "    </tr>\n",
        "    <tr>\n",
        "      <th>2005</th>\n",
        "      <td>     1</td>\n",
        "      <td>     0</td>\n",
        "    </tr>\n",
        "    <tr>\n",
        "      <th>2006</th>\n",
        "      <td>     0</td>\n",
        "      <td>     0</td>\n",
        "    </tr>\n",
        "    <tr>\n",
        "      <th>2007</th>\n",
        "      <td>     0</td>\n",
        "      <td>     0</td>\n",
        "    </tr>\n",
        "    <tr>\n",
        "      <th>2008</th>\n",
        "      <td>     0</td>\n",
        "      <td>     0</td>\n",
        "    </tr>\n",
        "    <tr>\n",
        "      <th>2009</th>\n",
        "      <td>     0</td>\n",
        "      <td>     0</td>\n",
        "    </tr>\n",
        "    <tr>\n",
        "      <th>2010</th>\n",
        "      <td>     0</td>\n",
        "      <td>     0</td>\n",
        "    </tr>\n",
        "    <tr>\n",
        "      <th>2011</th>\n",
        "      <td>     0</td>\n",
        "      <td>     0</td>\n",
        "    </tr>\n",
        "    <tr>\n",
        "      <th>2012</th>\n",
        "      <td>     0</td>\n",
        "      <td>     0</td>\n",
        "    </tr>\n",
        "    <tr>\n",
        "      <th rowspan=\"12\" valign=\"top\">Delaware</th>\n",
        "      <th>2001</th>\n",
        "      <td>     0</td>\n",
        "      <td>     0</td>\n",
        "    </tr>\n",
        "    <tr>\n",
        "      <th>2002</th>\n",
        "      <td>     0</td>\n",
        "      <td>     0</td>\n",
        "    </tr>\n",
        "    <tr>\n",
        "      <th>2003</th>\n",
        "      <td>     0</td>\n",
        "      <td>     0</td>\n",
        "    </tr>\n",
        "    <tr>\n",
        "      <th>2004</th>\n",
        "      <td>     0</td>\n",
        "      <td>     0</td>\n",
        "    </tr>\n",
        "    <tr>\n",
        "      <th>2005</th>\n",
        "      <td>     0</td>\n",
        "      <td>     0</td>\n",
        "    </tr>\n",
        "    <tr>\n",
        "      <th>2006</th>\n",
        "      <td>     0</td>\n",
        "      <td>     0</td>\n",
        "    </tr>\n",
        "    <tr>\n",
        "      <th>2007</th>\n",
        "      <td>     0</td>\n",
        "      <td>     0</td>\n",
        "    </tr>\n",
        "    <tr>\n",
        "      <th>2008</th>\n",
        "      <td>     0</td>\n",
        "      <td>     0</td>\n",
        "    </tr>\n",
        "    <tr>\n",
        "      <th>2009</th>\n",
        "      <td>     0</td>\n",
        "      <td>     0</td>\n",
        "    </tr>\n",
        "    <tr>\n",
        "      <th>2010</th>\n",
        "      <td>     0</td>\n",
        "      <td>     0</td>\n",
        "    </tr>\n",
        "    <tr>\n",
        "      <th>2011</th>\n",
        "      <td>     0</td>\n",
        "      <td>     0</td>\n",
        "    </tr>\n",
        "    <tr>\n",
        "      <th>2012</th>\n",
        "      <td>     0</td>\n",
        "      <td>     0</td>\n",
        "    </tr>\n",
        "    <tr>\n",
        "      <th rowspan=\"12\" valign=\"top\">Minnesota</th>\n",
        "      <th>2001</th>\n",
        "      <td>  2050</td>\n",
        "      <td> 30266</td>\n",
        "    </tr>\n",
        "    <tr>\n",
        "      <th>2002</th>\n",
        "      <td>  8295</td>\n",
        "      <td> 22538</td>\n",
        "    </tr>\n",
        "    <tr>\n",
        "      <th>2003</th>\n",
        "      <td> 21711</td>\n",
        "      <td> 13142</td>\n",
        "    </tr>\n",
        "    <tr>\n",
        "      <th>2004</th>\n",
        "      <td> 12085</td>\n",
        "      <td> 20991</td>\n",
        "    </tr>\n",
        "    <tr>\n",
        "      <th>2005</th>\n",
        "      <td> 10284</td>\n",
        "      <td> 36740</td>\n",
        "    </tr>\n",
        "    <tr>\n",
        "      <th>2006</th>\n",
        "      <td> 11227</td>\n",
        "      <td> 38269</td>\n",
        "    </tr>\n",
        "    <tr>\n",
        "      <th>2007</th>\n",
        "      <td> 11221</td>\n",
        "      <td> 34622</td>\n",
        "    </tr>\n",
        "    <tr>\n",
        "      <th>2008</th>\n",
        "      <td>  3446</td>\n",
        "      <td> 29950</td>\n",
        "    </tr>\n",
        "    <tr>\n",
        "      <th>2009</th>\n",
        "      <td>  1688</td>\n",
        "      <td> 28275</td>\n",
        "    </tr>\n",
        "    <tr>\n",
        "      <th>2010</th>\n",
        "      <td>  2308</td>\n",
        "      <td> 26555</td>\n",
        "    </tr>\n",
        "    <tr>\n",
        "      <th>2011</th>\n",
        "      <td>   834</td>\n",
        "      <td> 27140</td>\n",
        "    </tr>\n",
        "    <tr>\n",
        "      <th>2012</th>\n",
        "      <td>  1492</td>\n",
        "      <td> 22860</td>\n",
        "    </tr>\n",
        "    <tr>\n",
        "      <th rowspan=\"12\" valign=\"top\">Illinois</th>\n",
        "      <th>2001</th>\n",
        "      <td>     0</td>\n",
        "      <td>     0</td>\n",
        "    </tr>\n",
        "    <tr>\n",
        "      <th>2002</th>\n",
        "      <td>   427</td>\n",
        "      <td>     0</td>\n",
        "    </tr>\n",
        "    <tr>\n",
        "      <th>2003</th>\n",
        "      <td>   547</td>\n",
        "      <td>     0</td>\n",
        "    </tr>\n",
        "    <tr>\n",
        "      <th>2004</th>\n",
        "      <td>    62</td>\n",
        "      <td>     7</td>\n",
        "    </tr>\n",
        "    <tr>\n",
        "      <th>2005</th>\n",
        "      <td>    65</td>\n",
        "      <td>     4</td>\n",
        "    </tr>\n",
        "    <tr>\n",
        "      <th>2006</th>\n",
        "      <td>     1</td>\n",
        "      <td>     0</td>\n",
        "    </tr>\n",
        "    <tr>\n",
        "      <th>2007</th>\n",
        "      <td>    21</td>\n",
        "      <td>   226</td>\n",
        "    </tr>\n",
        "    <tr>\n",
        "      <th>2008</th>\n",
        "      <td>    36</td>\n",
        "      <td>   180</td>\n",
        "    </tr>\n",
        "    <tr>\n",
        "      <th>2009</th>\n",
        "      <td>     6</td>\n",
        "      <td>    32</td>\n",
        "    </tr>\n",
        "    <tr>\n",
        "      <th>2010</th>\n",
        "      <td>     0</td>\n",
        "      <td>     2</td>\n",
        "    </tr>\n",
        "    <tr>\n",
        "      <th>2011</th>\n",
        "      <td>     0</td>\n",
        "      <td>     1</td>\n",
        "    </tr>\n",
        "    <tr>\n",
        "      <th>2012</th>\n",
        "      <td>     0</td>\n",
        "      <td>    18</td>\n",
        "    </tr>\n",
        "    <tr>\n",
        "      <td></td>\n",
        "      <td></td>\n",
        "      <td>...</td>\n",
        "      <td>...</td>\n",
        "    </tr>\n",
        "  </tbody>\n",
        "</table>\n",
        "<p>624 rows \u00d7 2 columns</p>\n",
        "</div>"
       ],
       "metadata": {},
       "output_type": "pyout",
       "prompt_number": 22,
       "text": [
        "                  electricity export  electricity import\n",
        "Mississippi 2001                   0                   0\n",
        "            2002                   0                   0\n",
        "            2003                   0                   0\n",
        "            2004                   0                   0\n",
        "            2005                   0                   0\n",
        "            2006                   0                   0\n",
        "            2007                   0                   0\n",
        "            2008                   0                   0\n",
        "            2009                   0                   0\n",
        "            2010                   0                   0\n",
        "            2011                   0                   0\n",
        "            2012                   0                   0\n",
        "Oklahoma    2001                   0                   0\n",
        "            2002                   0                   0\n",
        "            2003                   0                   0\n",
        "            2004                   2                   0\n",
        "            2005                   1                   0\n",
        "            2006                   0                   0\n",
        "            2007                   0                   0\n",
        "            2008                   0                   0\n",
        "            2009                   0                   0\n",
        "            2010                   0                   0\n",
        "            2011                   0                   0\n",
        "            2012                   0                   0\n",
        "Delaware    2001                   0                   0\n",
        "            2002                   0                   0\n",
        "            2003                   0                   0\n",
        "            2004                   0                   0\n",
        "            2005                   0                   0\n",
        "            2006                   0                   0\n",
        "            2007                   0                   0\n",
        "            2008                   0                   0\n",
        "            2009                   0                   0\n",
        "            2010                   0                   0\n",
        "            2011                   0                   0\n",
        "            2012                   0                   0\n",
        "Minnesota   2001                2050               30266\n",
        "            2002                8295               22538\n",
        "            2003               21711               13142\n",
        "            2004               12085               20991\n",
        "            2005               10284               36740\n",
        "            2006               11227               38269\n",
        "            2007               11221               34622\n",
        "            2008                3446               29950\n",
        "            2009                1688               28275\n",
        "            2010                2308               26555\n",
        "            2011                 834               27140\n",
        "            2012                1492               22860\n",
        "Illinois    2001                   0                   0\n",
        "            2002                 427                   0\n",
        "            2003                 547                   0\n",
        "            2004                  62                   7\n",
        "            2005                  65                   4\n",
        "            2006                   1                   0\n",
        "            2007                  21                 226\n",
        "            2008                  36                 180\n",
        "            2009                   6                  32\n",
        "            2010                   0                   2\n",
        "            2011                   0                   1\n",
        "            2012                   0                  18\n",
        "                                 ...                 ...\n",
        "\n",
        "[624 rows x 2 columns]"
       ]
      }
     ],
     "prompt_number": 22
    },
    {
     "cell_type": "code",
     "collapsed": false,
     "input": [
      "#replace NAN with 0\n",
      "source_frame.fillna(0, inplace=True)"
     ],
     "language": "python",
     "metadata": {},
     "outputs": [],
     "prompt_number": 15
    },
    {
     "cell_type": "code",
     "collapsed": false,
     "input": [
      "source_frame.index.names = ['state','year']"
     ],
     "language": "python",
     "metadata": {},
     "outputs": [],
     "prompt_number": 16
    },
    {
     "cell_type": "heading",
     "level": 1,
     "metadata": {},
     "source": [
      "Finished DF Here!"
     ]
    },
    {
     "cell_type": "code",
     "collapsed": false,
     "input": [
      "source_frame.head()"
     ],
     "language": "python",
     "metadata": {},
     "outputs": [
      {
       "html": [
        "<div style=\"max-height:1000px;max-width:1500px;overflow:auto;\">\n",
        "<table border=\"1\" class=\"dataframe\">\n",
        "  <thead>\n",
        "    <tr style=\"text-align: right;\">\n",
        "      <th></th>\n",
        "      <th></th>\n",
        "      <th>electricity export</th>\n",
        "      <th>electricity import</th>\n",
        "    </tr>\n",
        "    <tr>\n",
        "      <th>state</th>\n",
        "      <th>year</th>\n",
        "      <th></th>\n",
        "      <th></th>\n",
        "    </tr>\n",
        "  </thead>\n",
        "  <tbody>\n",
        "    <tr>\n",
        "      <th rowspan=\"5\" valign=\"top\">Mississippi</th>\n",
        "      <th>2001</th>\n",
        "      <td> 0</td>\n",
        "      <td> 0</td>\n",
        "    </tr>\n",
        "    <tr>\n",
        "      <th>2002</th>\n",
        "      <td> 0</td>\n",
        "      <td> 0</td>\n",
        "    </tr>\n",
        "    <tr>\n",
        "      <th>2003</th>\n",
        "      <td> 0</td>\n",
        "      <td> 0</td>\n",
        "    </tr>\n",
        "    <tr>\n",
        "      <th>2004</th>\n",
        "      <td> 0</td>\n",
        "      <td> 0</td>\n",
        "    </tr>\n",
        "    <tr>\n",
        "      <th>2005</th>\n",
        "      <td> 0</td>\n",
        "      <td> 0</td>\n",
        "    </tr>\n",
        "  </tbody>\n",
        "</table>\n",
        "<p>5 rows \u00d7 2 columns</p>\n",
        "</div>"
       ],
       "metadata": {},
       "output_type": "pyout",
       "prompt_number": 17,
       "text": [
        "                  electricity export  electricity import\n",
        "state       year                                        \n",
        "Mississippi 2001                   0                   0\n",
        "            2002                   0                   0\n",
        "            2003                   0                   0\n",
        "            2004                   0                   0\n",
        "            2005                   0                   0\n",
        "\n",
        "[5 rows x 2 columns]"
       ]
      }
     ],
     "prompt_number": 17
    },
    {
     "cell_type": "heading",
     "level": 2,
     "metadata": {},
     "source": [
      "Analysis"
     ]
    },
    {
     "cell_type": "code",
     "collapsed": false,
     "input": [
      "yearly_by_source = source_frame.groupby(level='year').apply(sum)"
     ],
     "language": "python",
     "metadata": {},
     "outputs": [],
     "prompt_number": 18
    },
    {
     "cell_type": "code",
     "collapsed": false,
     "input": [
      "#plot each of the sources by year\n",
      "yearly_by_source.columns\n",
      "len(yearly_by_source)"
     ],
     "language": "python",
     "metadata": {},
     "outputs": [
      {
       "metadata": {},
       "output_type": "pyout",
       "prompt_number": 19,
       "text": [
        "12"
       ]
      }
     ],
     "prompt_number": 19
    },
    {
     "cell_type": "raw",
     "metadata": {},
     "source": [
      "fig, axes = plt.subplots(nrows=5, ncols=3)\n",
      "for i,series_name in enumerate(yearly_by_source.columns):\n",
      "    row = int(floor(i/3))\n",
      "    column = i % 3\n",
      "    yearly_by_source[series_name].plot(figsize = (12,12),ax=axes[row,column]); axes[row,column].set_title(series_name)\n",
      "    \n",
      "#Interesting to note that hydro-electric__pumped_storage is 0\n",
      "    "
     ]
    },
    {
     "cell_type": "markdown",
     "metadata": {},
     "source": [
      "Let's look at the total energy production by year"
     ]
    },
    {
     "cell_type": "code",
     "collapsed": false,
     "input": [
      "yearly_total = yearly_by_source.apply(sum, axis=1)"
     ],
     "language": "python",
     "metadata": {},
     "outputs": [],
     "prompt_number": 57
    },
    {
     "cell_type": "code",
     "collapsed": false,
     "input": [
      "yearly_total.plot()"
     ],
     "language": "python",
     "metadata": {},
     "outputs": [
      {
       "metadata": {},
       "output_type": "pyout",
       "prompt_number": 58,
       "text": [
        "<matplotlib.axes.AxesSubplot at 0x10673c490>"
       ]
      },
      {
       "html": [
        "\n",
        "<style>\n",
        "\n",
        "</style>\n",
        "\n",
        "<div id=\"fig2332244240994723096909496\"></div>\n",
        "<script>\n",
        "function mpld3_load_lib(url, callback){\n",
        "  var s = document.createElement('script');\n",
        "  s.src = url;\n",
        "  s.async = true;\n",
        "  s.onreadystatechange = s.onload = callback;\n",
        "  s.onerror = function(){console.warn(\"failed to load library \" + url);};\n",
        "  document.getElementsByTagName(\"head\")[0].appendChild(s);\n",
        "}\n",
        "\n",
        "function create_fig2332244240994723096909496(){\n",
        "  \n",
        "  mpld3.draw_figure(\"fig2332244240994723096909496\", {\"width\": 480.0, \"axes\": [{\"xlim\": [0.0, 12.0], \"yscale\": \"linear\", \"axesbg\": \"#FFFFFF\", \"texts\": [{\"v_baseline\": \"hanging\", \"h_anchor\": \"middle\", \"color\": \"#000000\", \"text\": \"year\", \"coordinates\": \"axes\", \"zorder\": 3, \"alpha\": 1, \"fontsize\": 10.0, \"position\": [0.5, -0.080645161290322578], \"rotation\": -0.0, \"id\": \"233224403902416\"}], \"zoomable\": true, \"images\": [], \"xdomain\": [0.0, 12.0], \"ylim\": [350000.0, 600000.0], \"paths\": [], \"sharey\": [], \"sharex\": [], \"axesbgalpha\": null, \"axes\": [{\"grid\": {\"color\": \"#000000\", \"alpha\": 1.0, \"dasharray\": \"2,2\", \"gridOn\": true}, \"position\": \"bottom\", \"nticks\": 7, \"tickvalues\": null, \"tickformat\": null}, {\"grid\": {\"color\": \"#000000\", \"alpha\": 1.0, \"dasharray\": \"2,2\", \"gridOn\": true}, \"position\": \"left\", \"nticks\": 6, \"tickvalues\": null, \"tickformat\": null}], \"lines\": [{\"color\": \"#0000FF\", \"yindex\": 1, \"coordinates\": \"data\", \"dasharray\": \"10,0\", \"zorder\": 2, \"alpha\": 1, \"xindex\": 0, \"linewidth\": 1.0, \"data\": \"data01\", \"id\": \"233224408705232\"}], \"markers\": [], \"id\": \"233224403217552\", \"ydomain\": [350000.0, 600000.0], \"collections\": [], \"xscale\": \"linear\", \"bbox\": [0.125, 0.125, 0.77500000000000002, 0.77500000000000002]}], \"data\": {\"data01\": [[0.0, 375138.0], [1.0, 358772.0], [2.0, 371015.0], [3.0, 389706.0], [4.0, 438911.0], [5.0, 456952.0], [6.0, 488182.0], [7.0, 554232.0], [8.0, 479924.0], [9.0, 438026.0], [10.0, 459588.0], [11.0, 466945.0]]}, \"id\": \"233224424099472\", \"toolbar\": [\"reset\", \"move\"], \"height\": 320.0});\n",
        "}\n",
        "\n",
        "if(typeof(mpld3) !== \"undefined\"){\n",
        "   // already loaded: just create the figure\n",
        "   create_fig2332244240994723096909496();\n",
        "}else if(typeof define === \"function\" && define.amd){\n",
        "   // require.js is available: use it to load d3/mpld3\n",
        "   require.config({paths: {d3: \"http://d3js.org/d3.v3.min\"}});\n",
        "   require([\"d3\"], function(d3){\n",
        "      window.d3 = d3;\n",
        "      mpld3_load_lib(\"http://mpld3.github.io/js/mpld3.v0.1.js\", create_fig2332244240994723096909496);\n",
        "    });\n",
        "}else{\n",
        "    // require.js not available: dynamically load d3 & mpld3\n",
        "    mpld3_load_lib(\"http://d3js.org/d3.v3.min.js\", function(){\n",
        "        mpld3_load_lib(\"http://mpld3.github.io/js/mpld3.v0.1.js\", create_fig2332244240994723096909496);})\n",
        "}\n",
        "</script>"
       ],
       "metadata": {},
       "output_type": "display_data",
       "png": "[encoded data removed]",
       "text": [
        "<matplotlib.figure.Figure at 0x107b26690>"
       ]
      }
     ],
     "prompt_number": 58
    },
    {
     "cell_type": "markdown",
     "metadata": {},
     "source": [
      "Let's write functions to look at the yearly total production in a state, as well as subplots of of yearly production by source"
     ]
    },
    {
     "cell_type": "code",
     "collapsed": false,
     "input": [
      "def plotStateTotals(state_name):\n",
      "    state_data = source_frame.ix[state_name]\n",
      "    yearly_total = state_data.apply(sum, axis=1)\n",
      "    yearly_total.plot()\n",
      "    \n",
      "def plotSourceByState(state_name):\n",
      "    state_data = source_frame.ix[state_name]\n",
      "    fig, axes = plt.subplots(nrows=5, ncols=3)\n",
      "    for i,series_name in enumerate(state_data.columns):\n",
      "        row = int(floor(i/3))\n",
      "        column = i % 3\n",
      "        state_data[series_name].plot(figsize = (12,12),ax=axes[row,column]); axes[row,column].set_title(series_name)\n"
     ],
     "language": "python",
     "metadata": {},
     "outputs": [],
     "prompt_number": 59
    },
    {
     "cell_type": "code",
     "collapsed": false,
     "input": [
      "plotStateTotals('California')"
     ],
     "language": "python",
     "metadata": {},
     "outputs": [
      {
       "html": [
        "\n",
        "<style>\n",
        "\n",
        "</style>\n",
        "\n",
        "<div id=\"fig2332244091285282262949228\"></div>\n",
        "<script>\n",
        "function mpld3_load_lib(url, callback){\n",
        "  var s = document.createElement('script');\n",
        "  s.src = url;\n",
        "  s.async = true;\n",
        "  s.onreadystatechange = s.onload = callback;\n",
        "  s.onerror = function(){console.warn(\"failed to load library \" + url);};\n",
        "  document.getElementsByTagName(\"head\")[0].appendChild(s);\n",
        "}\n",
        "\n",
        "function create_fig2332244091285282262949228(){\n",
        "  \n",
        "  mpld3.draw_figure(\"fig2332244091285282262949228\", {\"width\": 480.0, \"axes\": [{\"xlim\": [0.0, 12.0], \"yscale\": \"linear\", \"axesbg\": \"#FFFFFF\", \"texts\": [{\"v_baseline\": \"hanging\", \"h_anchor\": \"middle\", \"color\": \"#000000\", \"text\": \"year\", \"coordinates\": \"axes\", \"zorder\": 3, \"alpha\": 1, \"fontsize\": 10.0, \"position\": [0.5, -0.080645161290322578], \"rotation\": -0.0, \"id\": \"233224408923280\"}], \"zoomable\": true, \"images\": [], \"xdomain\": [0.0, 12.0], \"ylim\": [0.0, 35000.0], \"paths\": [], \"sharey\": [], \"sharex\": [], \"axesbgalpha\": null, \"axes\": [{\"grid\": {\"color\": \"#000000\", \"alpha\": 1.0, \"dasharray\": \"2,2\", \"gridOn\": true}, \"position\": \"bottom\", \"nticks\": 7, \"tickvalues\": null, \"tickformat\": null}, {\"grid\": {\"color\": \"#000000\", \"alpha\": 1.0, \"dasharray\": \"2,2\", \"gridOn\": true}, \"position\": \"left\", \"nticks\": 8, \"tickvalues\": null, \"tickformat\": null}], \"lines\": [{\"color\": \"#0000FF\", \"yindex\": 1, \"coordinates\": \"data\", \"dasharray\": \"10,0\", \"zorder\": 2, \"alpha\": 1, \"xindex\": 0, \"linewidth\": 1.0, \"data\": \"data01\", \"id\": \"233224403558416\"}], \"markers\": [], \"id\": \"233224408446608\", \"ydomain\": [0.0, 35000.0], \"collections\": [], \"xscale\": \"linear\", \"bbox\": [0.125, 0.125, 0.77500000000000002, 0.77500000000000002]}], \"data\": {\"data01\": [[0.0, 12914.0], [1.0, 7723.0], [2.0, 14231.0], [3.0, 4569.0], [4.0, 19562.0], [5.0, 11946.0], [6.0, 20780.0], [7.0, 20623.0], [8.0, 12166.0], [9.0, 13221.0], [10.0, 22703.0], [11.0, 30173.0]]}, \"id\": \"233224409128528\", \"toolbar\": [\"reset\", \"move\"], \"height\": 320.0});\n",
        "}\n",
        "\n",
        "if(typeof(mpld3) !== \"undefined\"){\n",
        "   // already loaded: just create the figure\n",
        "   create_fig2332244091285282262949228();\n",
        "}else if(typeof define === \"function\" && define.amd){\n",
        "   // require.js is available: use it to load d3/mpld3\n",
        "   require.config({paths: {d3: \"http://d3js.org/d3.v3.min\"}});\n",
        "   require([\"d3\"], function(d3){\n",
        "      window.d3 = d3;\n",
        "      mpld3_load_lib(\"http://mpld3.github.io/js/mpld3.v0.1.js\", create_fig2332244091285282262949228);\n",
        "    });\n",
        "}else{\n",
        "    // require.js not available: dynamically load d3 & mpld3\n",
        "    mpld3_load_lib(\"http://d3js.org/d3.v3.min.js\", function(){\n",
        "        mpld3_load_lib(\"http://mpld3.github.io/js/mpld3.v0.1.js\", create_fig2332244091285282262949228);})\n",
        "}\n",
        "</script>"
       ],
       "metadata": {},
       "output_type": "display_data",
       "png": "[encoded data removed]",
       "text": [
        "<matplotlib.figure.Figure at 0x106cdf650>"
       ]
      }
     ],
     "prompt_number": 60
    },
    {
     "cell_type": "raw",
     "metadata": {},
     "source": [
      "plotSourceByState('North Dakota')\n",
      "#looking at North Dakota, we can see that other_renewables_total is a sum of possibly solar and wind"
     ]
    },
    {
     "cell_type": "markdown",
     "metadata": {},
     "source": [
      "Let's do an entropy calculation to see how diverse each state's energy portfolio is within each year"
     ]
    },
    {
     "cell_type": "raw",
     "metadata": {},
     "source": [
      "#entropy function- Normalized Shannon Index\n",
      "\n",
      "# a series in which all the entries are equal should result in normalized entropy of 1.0\n",
      "\n",
      "def entropy(series):\n",
      "    \"\"\"Normalized Shannon Index\"\"\"\n",
      "    # a series in which all the entries are equal should result in normalized entropy of 1.0\n",
      "    \n",
      "    # eliminate 0s\n",
      "    series1 = series[series!=0]\n",
      "\n",
      "    # if len(series) < 2 (i.e., 0 or 1) then return 0\n",
      "    \n",
      "    if len(series1) > 1:\n",
      "        # calculate the maximum possible entropy for given length of input series\n",
      "        max_s = -np.log(1.0/len(series))\n",
      "    \n",
      "        total = float(sum(series1))\n",
      "        p = series1.astype('float')/float(total)\n",
      "        return sum(-p*np.log(p))/max_s\n",
      "    else:\n",
      "        return 0.0\n",
      "  "
     ]
    },
    {
     "cell_type": "code",
     "collapsed": false,
     "input": [
      "state_year_entropy = source_frame.apply(entropy, axis=1)"
     ],
     "language": "python",
     "metadata": {},
     "outputs": [],
     "prompt_number": 27
    },
    {
     "cell_type": "raw",
     "metadata": {},
     "source": [
      "#let's sort state_year_entropy to look at states/years with the best mix\n",
      "state_year_entropy.order(ascending = False)"
     ]
    },
    {
     "cell_type": "raw",
     "metadata": {},
     "source": [
      "#can we figure out which states had the biggest change in entropy from 2001 to 2013?\n",
      "def entropyChange(series):\n",
      "    entropy2001 = series.ix[:,'2001']\n",
      "    entropy2013 = series.ix[:,'2013']\n",
      "    return entropy2013 - entropy2001"
     ]
    },
    {
     "cell_type": "raw",
     "metadata": {},
     "source": [
      "state_entropy_change = state_year_entropy.groupby(level ='state').apply(entropyChange)\n",
      "state_entropy_change.sort(ascending=False)\n",
      "state_entropy_change"
     ]
    },
    {
     "cell_type": "code",
     "collapsed": false,
     "input": [],
     "language": "python",
     "metadata": {},
     "outputs": []
    }
   ],
   "metadata": {}
  }
 ]
}